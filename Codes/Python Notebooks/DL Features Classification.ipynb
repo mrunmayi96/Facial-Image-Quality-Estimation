{
 "cells": [
  {
   "cell_type": "markdown",
   "metadata": {},
   "source": [
    "# DL Features Classification "
   ]
  },
  {
   "cell_type": "code",
   "execution_count": 1,
   "metadata": {
    "collapsed": false
   },
   "outputs": [
    {
     "name": "stderr",
     "output_type": "stream",
     "text": [
      "/home/aditya/anaconda2/lib/python2.7/site-packages/IPython/html.py:14: ShimWarning: The `IPython.html` package has been deprecated since IPython 4.0. You should import from `notebook` instead. `IPython.html.widgets` has moved to `ipywidgets`.\n",
      "  \"`IPython.html.widgets` has moved to `ipywidgets`.\", ShimWarning)\n",
      "/home/aditya/anaconda2/lib/python2.7/site-packages/sklearn/cross_validation.py:44: DeprecationWarning: This module was deprecated in version 0.18 in favor of the model_selection module into which all the refactored classes and functions are moved. Also note that the interface of the new CV iterators are different from that of this module. This module will be removed in 0.20.\n",
      "  \"This module will be removed in 0.20.\", DeprecationWarning)\n"
     ]
    }
   ],
   "source": [
    "from sklearn.naive_bayes import GaussianNB\n",
    "from sklearn.tree import DecisionTreeClassifier\n",
    "from sklearn.ensemble import RandomForestClassifier\n",
    "from sklearn.svm import SVC\n",
    "from sklearn.neighbors import KNeighborsClassifier\n",
    "from sklearn import svm\n",
    "import pandas as pd\n",
    "from IPython.html import widgets\n",
    "from IPython.html.widgets import interact\n",
    "from IPython.display import display\n",
    "from sklearn.cross_validation import train_test_split\n",
    "from sklearn import metrics\n",
    "import numpy as np"
   ]
  },
  {
   "cell_type": "code",
   "execution_count": 2,
   "metadata": {
    "collapsed": false
   },
   "outputs": [
    {
     "name": "stdout",
     "output_type": "stream",
     "text": [
      "(600, 1202)\n",
      "(600, 1200)\n",
      "(600, 1)\n"
     ]
    }
   ],
   "source": [
    "df = pd.read_csv('./Data/Balanced_DL_Features.csv', header=None)\n",
    "print df.shape\n",
    "\n",
    "X = df.values[:,0:1200]\n",
    "Y = df.values[:,1201:1202]\n",
    "print X.shape\n",
    "print Y.shape"
   ]
  },
  {
   "cell_type": "code",
   "execution_count": 3,
   "metadata": {
    "collapsed": true
   },
   "outputs": [],
   "source": [
    "X_train, X_test, y_train, y_test = train_test_split(X, Y, test_size=0.3, random_state=0)\n"
   ]
  },
  {
   "cell_type": "markdown",
   "metadata": {},
   "source": [
    "### Naive Bayes"
   ]
  },
  {
   "cell_type": "code",
   "execution_count": 4,
   "metadata": {
    "collapsed": false
   },
   "outputs": [
    {
     "name": "stdout",
     "output_type": "stream",
     "text": [
      "             precision    recall  f1-score   support\n",
      "\n",
      "        0.0       0.61      0.60      0.61        96\n",
      "        1.0       0.55      0.56      0.56        84\n",
      "\n",
      "avg / total       0.58      0.58      0.58       180\n",
      "\n",
      "confusion matrix: \n",
      "[[58 38]\n",
      " [37 47]]\n",
      "accuracy score:  0.583333333333\n"
     ]
    },
    {
     "name": "stderr",
     "output_type": "stream",
     "text": [
      "/home/aditya/anaconda2/lib/python2.7/site-packages/sklearn/utils/validation.py:526: DataConversionWarning: A column-vector y was passed when a 1d array was expected. Please change the shape of y to (n_samples, ), for example using ravel().\n",
      "  y = column_or_1d(y, warn=True)\n"
     ]
    }
   ],
   "source": [
    "model_nb = GaussianNB()\n",
    "model_nb.fit(X_train, y_train)\n",
    "y_pred1 = model_nb.predict(X_test)\n",
    "print metrics.classification_report(y_test, y_pred1)\n",
    "print \"confusion matrix: \\n\" , metrics.confusion_matrix(y_test, y_pred1)\n",
    "print \"accuracy score: \" , metrics.accuracy_score(y_test, y_pred1)"
   ]
  },
  {
   "cell_type": "markdown",
   "metadata": {},
   "source": [
    "### Decision Tree"
   ]
  },
  {
   "cell_type": "code",
   "execution_count": 5,
   "metadata": {
    "collapsed": false
   },
   "outputs": [],
   "source": [
    "def DT(num):\n",
    "    model_dt = DecisionTreeClassifier(max_depth=num)\n",
    "    model_dt.fit(X_train, y_train)\n",
    "    y_pred2 = model_dt.predict(X_test)\n",
    "    print metrics.classification_report(y_test, y_pred2)\n",
    "    print \"confusion matrix: \\n\" , metrics.confusion_matrix(y_test, y_pred2)\n",
    "    print \"accuracy score: \" , metrics.accuracy_score(y_test, y_pred2)"
   ]
  },
  {
   "cell_type": "code",
   "execution_count": 6,
   "metadata": {
    "collapsed": false
   },
   "outputs": [
    {
     "name": "stdout",
     "output_type": "stream",
     "text": [
      "             precision    recall  f1-score   support\n",
      "\n",
      "        0.0       0.59      0.68      0.63        96\n",
      "        1.0       0.55      0.45      0.50        84\n",
      "\n",
      "avg / total       0.57      0.57      0.57       180\n",
      "\n",
      "confusion matrix: \n",
      "[[65 31]\n",
      " [46 38]]\n",
      "accuracy score:  0.572222222222\n"
     ]
    }
   ],
   "source": [
    "i = interact(DT, num=(1,20))\n",
    "\n",
    "#Best at 5"
   ]
  },
  {
   "cell_type": "markdown",
   "metadata": {},
   "source": [
    "### Random Forest"
   ]
  },
  {
   "cell_type": "code",
   "execution_count": 7,
   "metadata": {
    "collapsed": false
   },
   "outputs": [],
   "source": [
    "def RF(num):\n",
    "    model_rf = RandomForestClassifier(criterion='entropy',n_estimators=num)\n",
    "    model_rf.fit(X_train, y_train)\n",
    "    y_pred3 = model_rf.predict(X_test)\n",
    "    print metrics.classification_report(y_test, y_pred3)\n",
    "    print \"confusion matrix: \\n\" , metrics.confusion_matrix(y_test, y_pred3)\n",
    "    print \"accuracy score: \" , metrics.accuracy_score(y_test, y_pred3)\n"
   ]
  },
  {
   "cell_type": "code",
   "execution_count": 8,
   "metadata": {
    "collapsed": false
   },
   "outputs": [
    {
     "name": "stderr",
     "output_type": "stream",
     "text": [
      "/home/aditya/anaconda2/lib/python2.7/site-packages/ipykernel/__main__.py:3: DataConversionWarning: A column-vector y was passed when a 1d array was expected. Please change the shape of y to (n_samples,), for example using ravel().\n",
      "  app.launch_new_instance()\n"
     ]
    },
    {
     "name": "stdout",
     "output_type": "stream",
     "text": [
      "             precision    recall  f1-score   support\n",
      "\n",
      "        0.0       0.62      0.64      0.63        96\n",
      "        1.0       0.57      0.56      0.57        84\n",
      "\n",
      "avg / total       0.60      0.60      0.60       180\n",
      "\n",
      "confusion matrix: \n",
      "[[61 35]\n",
      " [37 47]]\n",
      "accuracy score:  0.6\n"
     ]
    }
   ],
   "source": [
    "i = interact(RF, num=(1,50))\n",
    "\n",
    "#Best at 16 for Balanced DL Features"
   ]
  },
  {
   "cell_type": "markdown",
   "metadata": {},
   "source": [
    "### SVM"
   ]
  },
  {
   "cell_type": "code",
   "execution_count": 9,
   "metadata": {
    "collapsed": false
   },
   "outputs": [
    {
     "name": "stdout",
     "output_type": "stream",
     "text": [
      "             precision    recall  f1-score   support\n",
      "\n",
      "        0.0       0.76      0.54      0.63        96\n",
      "        1.0       0.61      0.81      0.69        84\n",
      "\n",
      "avg / total       0.69      0.67      0.66       180\n",
      "\n",
      "confusion matrix: \n",
      "[[52 44]\n",
      " [16 68]]\n",
      "accuracy score:  0.666666666667\n"
     ]
    }
   ],
   "source": [
    "model_svm = svm.SVC(kernel='rbf', gamma = 0.00083)\n",
    "model_svm.fit(X_train, y_train)\n",
    "y_pred4 = model_svm.predict(X_test)\n",
    "print metrics.classification_report(y_test, y_pred4)\n",
    "print \"confusion matrix: \\n\" , metrics.confusion_matrix(y_test, y_pred4)\n",
    "print \"accuracy score: \" , metrics.accuracy_score(y_test, y_pred4)\n",
    "\n",
    "#Gamma = 1/num_features"
   ]
  },
  {
   "cell_type": "markdown",
   "metadata": {},
   "source": [
    "### KNN"
   ]
  },
  {
   "cell_type": "code",
   "execution_count": 10,
   "metadata": {
    "collapsed": false
   },
   "outputs": [],
   "source": [
    "def KNN(num):\n",
    "    model_knn = KNeighborsClassifier(n_neighbors=num)\n",
    "    model_knn.fit(X_train, y_train)\n",
    "    y_pred5 = model_knn.predict(X_test)\n",
    "    print metrics.classification_report(y_test, y_pred4)\n",
    "    print \"confusion matrix: \\n\" , metrics.confusion_matrix(y_test, y_pred5)\n",
    "    print \"accuracy score: \" , metrics.accuracy_score(y_test, y_pred5)"
   ]
  },
  {
   "cell_type": "code",
   "execution_count": 11,
   "metadata": {
    "collapsed": false
   },
   "outputs": [
    {
     "name": "stdout",
     "output_type": "stream",
     "text": [
      "             precision    recall  f1-score   support\n",
      "\n",
      "        0.0       0.76      0.54      0.63        96\n",
      "        1.0       0.61      0.81      0.69        84\n",
      "\n",
      "avg / total       0.69      0.67      0.66       180\n",
      "\n",
      "confusion matrix: \n",
      "[[80 16]\n",
      " [46 38]]\n",
      "accuracy score:  0.655555555556\n"
     ]
    },
    {
     "name": "stderr",
     "output_type": "stream",
     "text": [
      "/home/aditya/anaconda2/lib/python2.7/site-packages/ipykernel/__main__.py:3: DataConversionWarning: A column-vector y was passed when a 1d array was expected. Please change the shape of y to (n_samples, ), for example using ravel().\n",
      "  app.launch_new_instance()\n"
     ]
    }
   ],
   "source": [
    "KNN(24)\n",
    "\n",
    "# KNN Thumb Rule for N: root(Num_Samples)"
   ]
  },
  {
   "cell_type": "code",
   "execution_count": null,
   "metadata": {
    "collapsed": true
   },
   "outputs": [],
   "source": []
  }
 ],
 "metadata": {
  "kernelspec": {
   "display_name": "Python 2",
   "language": "python",
   "name": "python2"
  },
  "language_info": {
   "codemirror_mode": {
    "name": "ipython",
    "version": 2
   },
   "file_extension": ".py",
   "mimetype": "text/x-python",
   "name": "python",
   "nbconvert_exporter": "python",
   "pygments_lexer": "ipython2",
   "version": "2.7.14"
  },
  "widgets": {
   "state": {
    "670756bef8f740bcae18abd9be65edb7": {
     "views": [
      {
       "cell_index": 8
      }
     ]
    },
    "c1903cc0514e42898d08bb8a5af02ab9": {
     "views": [
      {
       "cell_index": 11
      }
     ]
    }
   },
   "version": "1.2.0"
  }
 },
 "nbformat": 4,
 "nbformat_minor": 2
}
