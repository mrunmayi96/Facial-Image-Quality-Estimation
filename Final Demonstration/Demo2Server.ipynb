{
 "cells": [
  {
   "cell_type": "markdown",
   "metadata": {},
   "source": [
    "# SERVER DEMO"
   ]
  },
  {
   "cell_type": "markdown",
   "metadata": {},
   "source": [
    "## Scenario 2: With Framework"
   ]
  },
  {
   "cell_type": "code",
   "execution_count": 1,
   "metadata": {
    "collapsed": false,
    "scrolled": false
   },
   "outputs": [
    {
     "name": "stdout",
     "output_type": "stream",
     "text": [
      "\n",
      "Number of images sent by CCTV client:  2\n",
      "\n",
      "Comparing Image:  B01.png  sent by Client against Database\n"
     ]
    },
    {
     "data": {
      "text/html": [
       "<table style='border:0'> <tr  style='border:0'>\n",
       "                    <td style='border:0'>Client Image: </td>\n",
       "                    <td style='border:0'><img src='././Demo2/B01.png'>\n",
       "                    </td> <td style='border:0'>No Match Found</td>\n",
       "                    </tr> </table> "
      ],
      "text/plain": [
       "<IPython.core.display.HTML object>"
      ]
     },
     "metadata": {},
     "output_type": "display_data"
    },
    {
     "name": "stdout",
     "output_type": "stream",
     "text": [
      "\n",
      "-----------------------------------------------------------------------\n",
      "\n",
      "\n",
      "Comparing Image:  B06.png  sent by Client against Database\n"
     ]
    },
    {
     "data": {
      "text/html": [
       "<table style='border:0'> <tr  style='border:0'>\n",
       "                    <td style='border:0'>Client Image: </td>\n",
       "                    <td style='border:0'><img src='././Demo2/B06.png'>\n",
       "                    </td> <td style='border:0'>No Match Found</td>\n",
       "                    </tr> </table> "
      ],
      "text/plain": [
       "<IPython.core.display.HTML object>"
      ]
     },
     "metadata": {},
     "output_type": "display_data"
    },
    {
     "name": "stdout",
     "output_type": "stream",
     "text": [
      "\n",
      "-----------------------------------------------------------------------\n",
      "\n",
      "\n",
      "Total Time Required to match the images: 12.7127521038 seconds\n"
     ]
    }
   ],
   "source": [
    "import os\n",
    "import time\n",
    "from IPython.display import HTML, display\n",
    "import numpy as np\n",
    "from numpy import loadtxt\n",
    "                \n",
    "folderName = \"./Demo2\"\n",
    "\n",
    "start = time.time()\n",
    "for dirName, subDirList, fileList in os.walk('./'+folderName):\n",
    "   \n",
    "    if(len(fileList) > 0):\n",
    "        fileList.sort()\n",
    "        output  = os.popen('ls '+dirName+' -1 | wc -l').readlines() \n",
    "        num_files = int(output[0])\n",
    "        print \"\\nNumber of images sent by CCTV client: \", num_files\n",
    "        \n",
    "        for f in fileList:\n",
    "            img1 = \"/home/admin1/Desktop/BE_Project/FinalDemo/\"+folderName+\"/\"+f\n",
    "            print \"\\nComparing Image: \",f,\" sent by Client against Database\"\n",
    "            \n",
    "            img2 = \"/home/admin1/Desktop/BE_Project/FinalDemo/ReferenceImages/*\"\n",
    "\n",
    "            cmd = \"python /home/admin1/openface/demos/compare_fast.py \"+img1+\" \"+img2+\" > /home/admin1/Desktop/BE_Project/FinalDemo/p.dat\"\n",
    "            ret = os.system(cmd)\n",
    "\n",
    "            if ret != 0:\n",
    "                #flag = False\n",
    "                Matrix[i-1] = 9\n",
    "\n",
    "            else:\n",
    "                Matrix = loadtxt(\"p.dat\", comments=\"#\", delimiter=\"\\n\", unpack=False)\n",
    "\n",
    "            #print img1 , \" : \" , Matrix\n",
    "            matched_index = np.argmin(Matrix)\n",
    "            \n",
    "            if Matrix[matched_index] <= 0.25:\n",
    "            \n",
    "                a = \"./\"+folderName+\"/\"+f\n",
    "                b = \"./ReferenceImages/S\"+str(matched_index+1)+\".png\"\n",
    "                c = str(Matrix[matched_index])\n",
    "\n",
    "                x = \"\"\"<table style='border:0'> <tr  style='border:0'>\n",
    "                    <td style='border:0'>Client Image: </td>\n",
    "                    <td style='border:0'><img src='\"\"\"+ a +\"\"\"'>\n",
    "                    </td> <td style='border:0'>Matched with Subject S\"\"\"+str(matched_index+1)+\"\"\"</td>\n",
    "                    <td style='border:0'><img src='\"\"\"+ b +\"\"\"'></td>\n",
    "                    <td style='border:0'>Match Score = \"\"\"+ c +\"\"\"</td>\n",
    "                    </tr> </table> \"\"\"\n",
    "                display(HTML(x))\n",
    "                \n",
    "                print \"\\n-----------------------------------------------------------------------\\n\"\n",
    "            \n",
    "            else:\n",
    "                \n",
    "                z = \"./\"+folderName+\"/\"+f\n",
    "                y = \"\"\"<table style='border:0'> <tr  style='border:0'>\n",
    "                    <td style='border:0'>Client Image: </td>\n",
    "                    <td style='border:0'><img src='\"\"\"+ z +\"\"\"'>\n",
    "                    </td> <td style='border:0'>No Match Found</td>\n",
    "                    </tr> </table> \"\"\"\n",
    "                display(HTML(y))\n",
    "                \n",
    "                print \"\\n-----------------------------------------------------------------------\\n\"\n",
    "               \n",
    "                \n",
    "end = time.time()\n",
    "duration = end - start\n",
    "print \"\\nTotal Time Required to match the images: \"+ str(duration)+ \" seconds\"            \n",
    "\n"
   ]
  }
 ],
 "metadata": {
  "kernelspec": {
   "display_name": "Python 2",
   "language": "python",
   "name": "python2"
  },
  "language_info": {
   "codemirror_mode": {
    "name": "ipython",
    "version": 2
   },
   "file_extension": ".py",
   "mimetype": "text/x-python",
   "name": "python",
   "nbconvert_exporter": "python",
   "pygments_lexer": "ipython2",
   "version": "2.7.13"
  }
 },
 "nbformat": 4,
 "nbformat_minor": 2
}
